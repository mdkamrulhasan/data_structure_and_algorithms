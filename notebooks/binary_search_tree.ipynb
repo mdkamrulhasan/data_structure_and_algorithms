{
  "nbformat": 4,
  "nbformat_minor": 0,
  "metadata": {
    "colab": {
      "provenance": [],
      "authorship_tag": "ABX9TyMoRWrFEl2qiX05jDndogit",
      "include_colab_link": true
    },
    "kernelspec": {
      "name": "python3",
      "display_name": "Python 3"
    },
    "language_info": {
      "name": "python"
    }
  },
  "cells": [
    {
      "cell_type": "markdown",
      "metadata": {
        "id": "view-in-github",
        "colab_type": "text"
      },
      "source": [
        "<a href=\"https://colab.research.google.com/github/mdkamrulhasan/data_structure_and_algorithms/blob/main/notebooks/binary_search_tree.ipynb\" target=\"_parent\"><img src=\"https://colab.research.google.com/assets/colab-badge.svg\" alt=\"Open In Colab\"/></a>"
      ]
    },
    {
      "cell_type": "markdown",
      "source": [
        "Define the Binary Search Tree Node"
      ],
      "metadata": {
        "id": "naaYv5Uig_PQ"
      }
    },
    {
      "cell_type": "code",
      "execution_count": null,
      "metadata": {
        "id": "74l0l0_Hg2hj"
      },
      "outputs": [],
      "source": [
        "class bstNode:\n",
        "  def __init__(self, x):\n",
        "    self.data = x\n",
        "    self.left_child = None\n",
        "    self.right_child = None"
      ]
    },
    {
      "cell_type": "markdown",
      "source": [
        "Define the Binary Search Tree (BST) Class"
      ],
      "metadata": {
        "id": "U6LAA8kHhd8X"
      }
    },
    {
      "cell_type": "markdown",
      "source": [],
      "metadata": {
        "id": "6mrXPnxwSouv"
      }
    },
    {
      "cell_type": "code",
      "source": [
        "class myBST:\n",
        "  def __init__(self):\n",
        "    self.root = None\n",
        "\n",
        "  def insert(self, x):\n",
        "    if self.root == None:\n",
        "      self.root = bstNode(x)\n",
        "    else:\n",
        "      ptr = self.root\n",
        "      prv_ptr = self.root\n",
        "      while ptr != None:\n",
        "        prv_ptr = ptr\n",
        "        if x > ptr.data:\n",
        "          ptr = ptr.right_child\n",
        "        else:\n",
        "          ptr = ptr.left_child\n",
        "\n",
        "      # insert by fist checking which\n",
        "      # (left or right ptr the new data will bt lined to)\n",
        "      new_node = bstNode(x)\n",
        "      if new_node.data <= prv_ptr.data:\n",
        "        prv_ptr.left_child = new_node\n",
        "      else:\n",
        "        prv_ptr.right_child = new_node\n",
        "\n",
        "  # Pre Order Traversal\n",
        "  def pre_order(self, root):\n",
        "    if root:\n",
        "      print(root.data)\n",
        "      self.pre_order(root.left_child)\n",
        "      self.pre_order(root.right_child)\n",
        "\n",
        "  # In Order Traversal\n",
        "  def in_order(self, root):\n",
        "    if root:\n",
        "      self.in_order(root.left_child)\n",
        "      print(root.data)\n",
        "      self.in_order(root.right_child)\n",
        "\n",
        "  # Post Order Traversal\n",
        "  def post_order(self, root):\n",
        "    if root:\n",
        "      self.post_order(root.left_child)\n",
        "      self.post_order(root.right_child)\n",
        "      print(root.data)\n",
        "\n",
        "\n",
        "  # deletion\n",
        "  def delete(self, root, x):\n",
        "    # enter your code here"
      ],
      "metadata": {
        "id": "dO4gib7phKlE"
      },
      "execution_count": null,
      "outputs": []
    },
    {
      "cell_type": "markdown",
      "source": [
        "Now lets create an instance of our BST and insert some data"
      ],
      "metadata": {
        "id": "XDHchDrpHnqO"
      }
    },
    {
      "cell_type": "code",
      "source": [
        "my_tree = myBST()\n",
        "my_tree.insert(6)\n",
        "my_tree.insert(4)\n",
        "my_tree.insert(40)\n",
        "my_tree.insert(100)\n",
        "my_tree.insert(-100)\n",
        "my_tree.insert(5)\n",
        "my_tree.insert(20)"
      ],
      "metadata": {
        "id": "lhaWMfv0ho-K"
      },
      "execution_count": null,
      "outputs": []
    },
    {
      "cell_type": "markdown",
      "source": [
        "Lets see our root node data .."
      ],
      "metadata": {
        "id": "XjMXpyWLHymO"
      }
    },
    {
      "cell_type": "code",
      "source": [
        "my_tree.root.data"
      ],
      "metadata": {
        "colab": {
          "base_uri": "https://localhost:8080/"
        },
        "id": "_s26-VeL5ASX",
        "outputId": "c1271b9f-4ef0-4cc6-e7bd-ad6eefe58149"
      },
      "execution_count": null,
      "outputs": [
        {
          "output_type": "execute_result",
          "data": {
            "text/plain": [
              "6"
            ]
          },
          "metadata": {},
          "execution_count": 6
        }
      ]
    },
    {
      "cell_type": "markdown",
      "source": [
        "The first left child data"
      ],
      "metadata": {
        "id": "GGSoXX5EICx5"
      }
    },
    {
      "cell_type": "code",
      "source": [
        "my_tree.root.left_child.data"
      ],
      "metadata": {
        "colab": {
          "base_uri": "https://localhost:8080/"
        },
        "id": "8p_3H2so5NBr",
        "outputId": "91b46990-c87c-4c54-e908-9dcc3780104e"
      },
      "execution_count": null,
      "outputs": [
        {
          "output_type": "execute_result",
          "data": {
            "text/plain": [
              "4"
            ]
          },
          "metadata": {},
          "execution_count": 7
        }
      ]
    },
    {
      "cell_type": "markdown",
      "source": [
        "The first right child data"
      ],
      "metadata": {
        "id": "l6Pz4ZtrIJC2"
      }
    },
    {
      "cell_type": "code",
      "source": [
        "my_tree.root.right_child.data"
      ],
      "metadata": {
        "colab": {
          "base_uri": "https://localhost:8080/"
        },
        "id": "UsfjNGXf5Qu4",
        "outputId": "00c41760-9b04-45f3-a62e-ed7f3e4700dc"
      },
      "execution_count": null,
      "outputs": [
        {
          "output_type": "execute_result",
          "data": {
            "text/plain": [
              "40"
            ]
          },
          "metadata": {},
          "execution_count": 8
        }
      ]
    },
    {
      "cell_type": "markdown",
      "source": [
        "BST Traversal (pre order)"
      ],
      "metadata": {
        "id": "yzwo64RKIG-c"
      }
    },
    {
      "cell_type": "code",
      "source": [
        "my_tree.pre_order(my_tree.root)"
      ],
      "metadata": {
        "colab": {
          "base_uri": "https://localhost:8080/"
        },
        "id": "mOKDTMr4XENx",
        "outputId": "4bfa4c67-ef5a-4438-a82e-97036e23cc4f"
      },
      "execution_count": null,
      "outputs": [
        {
          "output_type": "stream",
          "name": "stdout",
          "text": [
            "6\n",
            "4\n",
            "-100\n",
            "5\n",
            "40\n",
            "20\n",
            "100\n"
          ]
        }
      ]
    },
    {
      "cell_type": "markdown",
      "source": [
        "BST Traversal (In order)"
      ],
      "metadata": {
        "id": "7p63BKTmJgqN"
      }
    },
    {
      "cell_type": "code",
      "source": [
        "my_tree.in_order(my_tree.root)"
      ],
      "metadata": {
        "colab": {
          "base_uri": "https://localhost:8080/"
        },
        "id": "IJMZpW8zZEDB",
        "outputId": "e0bf7576-7c2d-4174-9892-3d1e6b2595e1"
      },
      "execution_count": null,
      "outputs": [
        {
          "output_type": "stream",
          "name": "stdout",
          "text": [
            "-100\n",
            "4\n",
            "5\n",
            "6\n",
            "20\n",
            "40\n",
            "100\n"
          ]
        }
      ]
    },
    {
      "cell_type": "markdown",
      "source": [
        "BST Traversal (post order)"
      ],
      "metadata": {
        "id": "OADf1DPKJjp9"
      }
    },
    {
      "cell_type": "code",
      "source": [
        "my_tree.post_order(my_tree.root)"
      ],
      "metadata": {
        "id": "2O737bDgZJUG",
        "colab": {
          "base_uri": "https://localhost:8080/"
        },
        "outputId": "12ea2a47-3c9c-428f-9617-fbe38135f84a"
      },
      "execution_count": null,
      "outputs": [
        {
          "output_type": "stream",
          "name": "stdout",
          "text": [
            "-100\n",
            "5\n",
            "4\n",
            "20\n",
            "100\n",
            "40\n",
            "6\n"
          ]
        }
      ]
    },
    {
      "cell_type": "markdown",
      "source": [],
      "metadata": {
        "id": "_kP6CzCcSnZ5"
      }
    }
  ]
}