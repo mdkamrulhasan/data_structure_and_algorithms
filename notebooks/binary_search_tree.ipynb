{
  "nbformat": 4,
  "nbformat_minor": 0,
  "metadata": {
    "colab": {
      "provenance": [],
      "authorship_tag": "ABX9TyMDGcGGgSOvxHti7TNkY9Hg",
      "include_colab_link": true
    },
    "kernelspec": {
      "name": "python3",
      "display_name": "Python 3"
    },
    "language_info": {
      "name": "python"
    }
  },
  "cells": [
    {
      "cell_type": "markdown",
      "metadata": {
        "id": "view-in-github",
        "colab_type": "text"
      },
      "source": [
        "<a href=\"https://colab.research.google.com/github/mdkamrulhasan/data_structure_and_algorithms/blob/main/notebooks/binary_search_tree.ipynb\" target=\"_parent\"><img src=\"https://colab.research.google.com/assets/colab-badge.svg\" alt=\"Open In Colab\"/></a>"
      ]
    },
    {
      "cell_type": "markdown",
      "source": [
        "Define a tree Node"
      ],
      "metadata": {
        "id": "naaYv5Uig_PQ"
      }
    },
    {
      "cell_type": "code",
      "execution_count": null,
      "metadata": {
        "id": "74l0l0_Hg2hj"
      },
      "outputs": [],
      "source": [
        "class bstNode:\n",
        "  def __init__(self, x):\n",
        "    self.data = x\n",
        "    self.left_child = None\n",
        "    self.right_child = None"
      ]
    },
    {
      "cell_type": "markdown",
      "source": [
        "Define BST"
      ],
      "metadata": {
        "id": "U6LAA8kHhd8X"
      }
    },
    {
      "cell_type": "code",
      "source": [
        "class myBST:\n",
        "  def __init__(self):\n",
        "    self.root = None\n",
        "\n",
        "  def insert(self, x):\n",
        "    if self.root == None:\n",
        "      self.root = bstNode(x)\n",
        "    else:\n",
        "      ptr = self.root\n",
        "      prv_ptr = self.root\n",
        "      while ptr != None:\n",
        "        prv_ptr = ptr\n",
        "        if x > ptr.data:\n",
        "          ptr = ptr.right_child\n",
        "        else:\n",
        "          ptr = ptr.left_child\n",
        "\n",
        "      # insert but fist check which (left or right ptr the new data will point to)\n",
        "      new_node = bstNode(x)\n",
        "      if new_node.data <= prv_ptr.data:\n",
        "        prv_ptr.left_child = new_node\n",
        "      else:\n",
        "        prv_ptr.right_child = new_node\n",
        "\n",
        "\n",
        "  def pre_order(self, root):\n",
        "    if root:\n",
        "      print(root.data)\n",
        "      self.pre_order(root.left_child)\n",
        "      self.pre_order(root.right_child)\n",
        "\n",
        "  def in_order(self, root):\n",
        "    if root:\n",
        "      self.in_order(root.left_child)\n",
        "      print(root.data)\n",
        "      self.in_order(root.right_child)\n",
        "\n",
        "  def post_order(self, root):\n",
        "    if root:\n",
        "      self.post_order(root.left_child)\n",
        "      self.post_order(root.right_child)\n",
        "      print(root.data)\n"
      ],
      "metadata": {
        "id": "dO4gib7phKlE"
      },
      "execution_count": null,
      "outputs": []
    },
    {
      "cell_type": "code",
      "source": [
        "my_tree = myBST()\n",
        "my_tree.insert(6)\n",
        "my_tree.insert(4)\n",
        "my_tree.insert(40)\n",
        "my_tree.insert(100)\n",
        "my_tree.insert(-100)\n",
        "my_tree.insert(5)\n",
        "my_tree.insert(20)"
      ],
      "metadata": {
        "id": "lhaWMfv0ho-K"
      },
      "execution_count": null,
      "outputs": []
    },
    {
      "cell_type": "code",
      "source": [
        "my_tree.root.data"
      ],
      "metadata": {
        "colab": {
          "base_uri": "https://localhost:8080/"
        },
        "id": "_s26-VeL5ASX",
        "outputId": "d5c00acc-4aa9-4885-8831-477a780a277d"
      },
      "execution_count": null,
      "outputs": [
        {
          "output_type": "execute_result",
          "data": {
            "text/plain": [
              "6"
            ]
          },
          "metadata": {},
          "execution_count": 70
        }
      ]
    },
    {
      "cell_type": "code",
      "source": [
        "my_tree.root.left_child.data"
      ],
      "metadata": {
        "colab": {
          "base_uri": "https://localhost:8080/"
        },
        "id": "8p_3H2so5NBr",
        "outputId": "f82e04ec-d594-456d-cd64-b5e671a8b491"
      },
      "execution_count": null,
      "outputs": [
        {
          "output_type": "execute_result",
          "data": {
            "text/plain": [
              "4"
            ]
          },
          "metadata": {},
          "execution_count": 71
        }
      ]
    },
    {
      "cell_type": "code",
      "source": [
        "my_tree.root.right_child.data"
      ],
      "metadata": {
        "colab": {
          "base_uri": "https://localhost:8080/"
        },
        "id": "UsfjNGXf5Qu4",
        "outputId": "cb9f9683-44cf-46c1-b534-bda6743f5ef6"
      },
      "execution_count": null,
      "outputs": [
        {
          "output_type": "execute_result",
          "data": {
            "text/plain": [
              "40"
            ]
          },
          "metadata": {},
          "execution_count": 72
        }
      ]
    },
    {
      "cell_type": "code",
      "source": [],
      "metadata": {
        "id": "-SPKFz2I5BC5"
      },
      "execution_count": null,
      "outputs": []
    },
    {
      "cell_type": "code",
      "source": [
        "my_tree.pre_order(my_tree.root)"
      ],
      "metadata": {
        "colab": {
          "base_uri": "https://localhost:8080/"
        },
        "id": "mOKDTMr4XENx",
        "outputId": "2dd71ed9-a146-4fa3-85e5-25085faff60e"
      },
      "execution_count": null,
      "outputs": [
        {
          "output_type": "stream",
          "name": "stdout",
          "text": [
            "6\n",
            "4\n",
            "-100\n",
            "5\n",
            "40\n",
            "20\n",
            "100\n"
          ]
        }
      ]
    },
    {
      "cell_type": "code",
      "source": [
        "my_tree.in_order(my_tree.root)"
      ],
      "metadata": {
        "colab": {
          "base_uri": "https://localhost:8080/"
        },
        "id": "IJMZpW8zZEDB",
        "outputId": "162c3c20-9eb4-4cbc-d339-84b92628b617"
      },
      "execution_count": null,
      "outputs": [
        {
          "output_type": "stream",
          "name": "stdout",
          "text": [
            "-100\n",
            "4\n",
            "5\n",
            "6\n",
            "20\n",
            "40\n",
            "100\n"
          ]
        }
      ]
    },
    {
      "cell_type": "code",
      "source": [
        "# my_tree.post_order(my_tree.root)"
      ],
      "metadata": {
        "id": "2O737bDgZJUG"
      },
      "execution_count": null,
      "outputs": []
    },
    {
      "cell_type": "code",
      "source": [],
      "metadata": {
        "id": "4oQ0e0BCZMFr"
      },
      "execution_count": null,
      "outputs": []
    }
  ]
}