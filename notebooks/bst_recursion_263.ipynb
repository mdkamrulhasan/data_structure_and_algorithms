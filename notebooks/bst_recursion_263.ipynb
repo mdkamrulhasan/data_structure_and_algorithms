{
  "nbformat": 4,
  "nbformat_minor": 0,
  "metadata": {
    "colab": {
      "provenance": [],
      "authorship_tag": "ABX9TyOO2tQ9Qsk19aKxquzIqvcO",
      "include_colab_link": true
    },
    "kernelspec": {
      "name": "python3",
      "display_name": "Python 3"
    },
    "language_info": {
      "name": "python"
    }
  },
  "cells": [
    {
      "cell_type": "markdown",
      "metadata": {
        "id": "view-in-github",
        "colab_type": "text"
      },
      "source": [
        "<a href=\"https://colab.research.google.com/github/mdkamrulhasan/data_structure_and_algorithms/blob/main/notebooks/bst_recursion_263.ipynb\" target=\"_parent\"><img src=\"https://colab.research.google.com/assets/colab-badge.svg\" alt=\"Open In Colab\"/></a>"
      ]
    },
    {
      "cell_type": "markdown",
      "source": [
        "Define a tree Node"
      ],
      "metadata": {
        "id": "naaYv5Uig_PQ"
      }
    },
    {
      "cell_type": "code",
      "execution_count": null,
      "metadata": {
        "id": "74l0l0_Hg2hj"
      },
      "outputs": [],
      "source": [
        "class bstNode:\n",
        "  def __init__(self, x):\n",
        "    self.data = x\n",
        "    self.left_child = None\n",
        "    self.right_child = None"
      ]
    },
    {
      "cell_type": "markdown",
      "source": [
        "Define BST"
      ],
      "metadata": {
        "id": "U6LAA8kHhd8X"
      }
    },
    {
      "cell_type": "markdown",
      "source": [
        "Some (deletion) adapted from [link text](https://https://www.w3resource.com/python-exercises/data-structures-and-algorithms/python-binary-search-tree-exercise-4.php)"
      ],
      "metadata": {
        "id": "vipDAcy_H0fE"
      }
    },
    {
      "cell_type": "code",
      "source": [
        "\n",
        "class myBST:\n",
        "  def __init__(self):\n",
        "    self.root = None\n",
        "\n",
        "  def insert(self, root, key):\n",
        "    # If the tree is empty, return a new node\n",
        "    if root is None:\n",
        "        return bstNode(key)\n",
        "    # Otherwise, recur down the tree\n",
        "    if key < root.data:\n",
        "        root.left_child = self.insert(root.left_child, key)\n",
        "    else:\n",
        "        root.right_child = self.insert(root.right_child, key)\n",
        "    # return the (unchanged) root pointer\n",
        "    return root\n",
        "\n",
        "  def pre_order(self, root):\n",
        "    if root:\n",
        "      print(root.data)\n",
        "      self.pre_order(root.left_child)\n",
        "      self.pre_order(root.right_child)\n",
        "\n",
        "  def in_order(self, root):\n",
        "    if root:\n",
        "      self.in_order(root.left_child)\n",
        "      print(root.data)\n",
        "      self.in_order(root.right_child)\n",
        "\n",
        "  def post_order(self, root):\n",
        "    if root:\n",
        "      self.post_order(root.left_child)\n",
        "      self.post_order(root.right_child)\n",
        "      print(root.data)\n",
        "\n",
        "\n",
        "  def delete(self, root, key):\n",
        "    # enter your code here\n"
      ],
      "metadata": {
        "id": "dO4gib7phKlE"
      },
      "execution_count": null,
      "outputs": []
    },
    {
      "cell_type": "code",
      "source": [
        "my_tree = myBST()\n",
        "my_tree.root = my_tree.insert(my_tree.root, 6)\n",
        "my_tree.root = my_tree.insert(my_tree.root, 4)\n",
        "my_tree.root = my_tree.insert(my_tree.root, 100)\n"
      ],
      "metadata": {
        "id": "lhaWMfv0ho-K"
      },
      "execution_count": null,
      "outputs": []
    },
    {
      "cell_type": "code",
      "source": [
        "my_tree.insert(None, 6)\n",
        "my_tree"
      ],
      "metadata": {
        "colab": {
          "base_uri": "https://localhost:8080/"
        },
        "id": "E4ir2qrNuBRq",
        "outputId": "dfae209b-1ce5-462d-c1af-14c56705c108"
      },
      "execution_count": null,
      "outputs": [
        {
          "output_type": "execute_result",
          "data": {
            "text/plain": [
              "<__main__.myBST at 0x7a505b5238b0>"
            ]
          },
          "metadata": {},
          "execution_count": 28
        }
      ]
    },
    {
      "cell_type": "code",
      "source": [
        "my_tree.root.data"
      ],
      "metadata": {
        "id": "iPoIeyILtkFt",
        "colab": {
          "base_uri": "https://localhost:8080/"
        },
        "outputId": "7b3c5a23-6725-4e6c-eaaa-dcfaf0906acc"
      },
      "execution_count": null,
      "outputs": [
        {
          "output_type": "execute_result",
          "data": {
            "text/plain": [
              "6"
            ]
          },
          "metadata": {},
          "execution_count": 29
        }
      ]
    },
    {
      "cell_type": "code",
      "source": [
        "my_tree.pre_order(my_tree.root)"
      ],
      "metadata": {
        "id": "mOKDTMr4XENx",
        "colab": {
          "base_uri": "https://localhost:8080/"
        },
        "outputId": "da03ed32-8ce9-48cb-c9d7-3fdcfc8a53a0"
      },
      "execution_count": null,
      "outputs": [
        {
          "output_type": "stream",
          "name": "stdout",
          "text": [
            "6\n",
            "4\n",
            "100\n"
          ]
        }
      ]
    },
    {
      "cell_type": "code",
      "source": [
        "my_tree.in_order(my_tree.root)"
      ],
      "metadata": {
        "id": "IJMZpW8zZEDB",
        "colab": {
          "base_uri": "https://localhost:8080/"
        },
        "outputId": "4fff7998-b924-4f6d-b812-d43d16421902"
      },
      "execution_count": null,
      "outputs": [
        {
          "output_type": "stream",
          "name": "stdout",
          "text": [
            "4\n",
            "6\n",
            "100\n"
          ]
        }
      ]
    },
    {
      "cell_type": "code",
      "source": [
        "my_tree.post_order(my_tree.root)"
      ],
      "metadata": {
        "id": "2O737bDgZJUG",
        "colab": {
          "base_uri": "https://localhost:8080/"
        },
        "outputId": "0e6fcf53-adb8-49af-c03a-a0950785544c"
      },
      "execution_count": null,
      "outputs": [
        {
          "output_type": "stream",
          "name": "stdout",
          "text": [
            "4\n",
            "100\n",
            "6\n"
          ]
        }
      ]
    },
    {
      "cell_type": "code",
      "source": [
        "my_tree.delete(my_tree.root, 4)"
      ],
      "metadata": {
        "id": "4oQ0e0BCZMFr",
        "colab": {
          "base_uri": "https://localhost:8080/"
        },
        "outputId": "34e2eb5f-d6fb-4c24-ecd7-b5c3fb2ccd6e"
      },
      "execution_count": null,
      "outputs": [
        {
          "output_type": "execute_result",
          "data": {
            "text/plain": [
              "<__main__.bstNode at 0x7a505b5229e0>"
            ]
          },
          "metadata": {},
          "execution_count": 37
        }
      ]
    },
    {
      "cell_type": "code",
      "source": [
        "my_tree.pre_order(my_tree.root)"
      ],
      "metadata": {
        "id": "hifb-EKssxON",
        "colab": {
          "base_uri": "https://localhost:8080/"
        },
        "outputId": "afe12cb9-69f7-48f2-c243-662ca9b77c7c"
      },
      "execution_count": null,
      "outputs": [
        {
          "output_type": "stream",
          "name": "stdout",
          "text": [
            "6\n",
            "100\n"
          ]
        }
      ]
    },
    {
      "cell_type": "code",
      "source": [
        "my_tree.root = my_tree.insert(my_tree.root, 8)\n",
        "my_tree.root = my_tree.insert(my_tree.root, 3)"
      ],
      "metadata": {
        "id": "es_eZJNrOcgQ"
      },
      "execution_count": null,
      "outputs": []
    },
    {
      "cell_type": "code",
      "source": [
        "my_tree.pre_order(my_tree.root)"
      ],
      "metadata": {
        "colab": {
          "base_uri": "https://localhost:8080/"
        },
        "id": "hY-LriISOxgS",
        "outputId": "f8c2c06d-3e0e-4c72-f31c-557593ea7b7e"
      },
      "execution_count": null,
      "outputs": [
        {
          "output_type": "stream",
          "name": "stdout",
          "text": [
            "6\n",
            "3\n",
            "100\n",
            "8\n"
          ]
        }
      ]
    },
    {
      "cell_type": "code",
      "source": [
        "# my_tree.delete(my_tree.root, 6)"
      ],
      "metadata": {
        "colab": {
          "base_uri": "https://localhost:8080/"
        },
        "id": "cirMjppwOzzq",
        "outputId": "19afea99-0dcf-4357-bd77-c55c44afe6cc"
      },
      "execution_count": null,
      "outputs": [
        {
          "output_type": "execute_result",
          "data": {
            "text/plain": [
              "<__main__.bstNode at 0x7a505b5229e0>"
            ]
          },
          "metadata": {},
          "execution_count": 42
        }
      ]
    },
    {
      "cell_type": "code",
      "source": [
        "# my_tree.pre_order(my_tree.root)"
      ],
      "metadata": {
        "colab": {
          "base_uri": "https://localhost:8080/"
        },
        "id": "GFkCHp9VO9_x",
        "outputId": "334cd4fc-e3ba-4077-ddd7-3e8d2ffa95dd"
      },
      "execution_count": null,
      "outputs": [
        {
          "output_type": "stream",
          "name": "stdout",
          "text": [
            "8\n",
            "3\n",
            "100\n"
          ]
        }
      ]
    },
    {
      "cell_type": "code",
      "source": [
        "# my_tree.delete(my_tree.root, 100)"
      ],
      "metadata": {
        "colab": {
          "base_uri": "https://localhost:8080/"
        },
        "id": "a4At_TiCO_SA",
        "outputId": "34ac6165-172e-4a9b-8959-dad25a3d56f8"
      },
      "execution_count": null,
      "outputs": [
        {
          "output_type": "execute_result",
          "data": {
            "text/plain": [
              "<__main__.bstNode at 0x7a505b5229e0>"
            ]
          },
          "metadata": {},
          "execution_count": 44
        }
      ]
    },
    {
      "cell_type": "code",
      "source": [
        "# my_tree.pre_order(my_tree.root)"
      ],
      "metadata": {
        "colab": {
          "base_uri": "https://localhost:8080/"
        },
        "id": "Zxkr8_WnPGM8",
        "outputId": "df31b4d8-b83b-4a2f-d4b1-c69904ab2dbd"
      },
      "execution_count": null,
      "outputs": [
        {
          "output_type": "stream",
          "name": "stdout",
          "text": [
            "8\n",
            "3\n"
          ]
        }
      ]
    }
  ]
}