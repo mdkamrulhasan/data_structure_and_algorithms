{
  "nbformat": 4,
  "nbformat_minor": 0,
  "metadata": {
    "colab": {
      "provenance": [],
      "authorship_tag": "ABX9TyO64Odqx8Oil1ZtGI+vmQAG",
      "include_colab_link": true
    },
    "kernelspec": {
      "name": "python3",
      "display_name": "Python 3"
    },
    "language_info": {
      "name": "python"
    }
  },
  "cells": [
    {
      "cell_type": "markdown",
      "metadata": {
        "id": "view-in-github",
        "colab_type": "text"
      },
      "source": [
        "<a href=\"https://colab.research.google.com/github/mdkamrulhasan/data_structure_and_algorithms/blob/main/notebooks/my_linked_list.ipynb\" target=\"_parent\"><img src=\"https://colab.research.google.com/assets/colab-badge.svg\" alt=\"Open In Colab\"/></a>"
      ]
    },
    {
      "cell_type": "markdown",
      "source": [
        "Define data class"
      ],
      "metadata": {
        "id": "Fopo8h6QBkHP"
      }
    },
    {
      "cell_type": "code",
      "execution_count": null,
      "metadata": {
        "id": "XndgDyOkBYp5"
      },
      "outputs": [],
      "source": [
        "class MyNode:\n",
        "  def __init__(self, x):\n",
        "    self.data = x\n",
        "    self.next_node = None"
      ]
    },
    {
      "cell_type": "markdown",
      "source": [
        "test a data node"
      ],
      "metadata": {
        "id": "jIyypHP6CU6v"
      }
    },
    {
      "cell_type": "code",
      "source": [
        "test_node = MyNode(100)"
      ],
      "metadata": {
        "id": "1pefF81sCFOo"
      },
      "execution_count": null,
      "outputs": []
    },
    {
      "cell_type": "code",
      "source": [
        "test_node"
      ],
      "metadata": {
        "colab": {
          "base_uri": "https://localhost:8080/"
        },
        "id": "BCcBC9mxCa9g",
        "outputId": "e2a65b45-7255-422d-9950-5d0affc098ac"
      },
      "execution_count": null,
      "outputs": [
        {
          "output_type": "execute_result",
          "data": {
            "text/plain": [
              "<__main__.MyNode at 0x7aa467b7d3f0>"
            ]
          },
          "metadata": {},
          "execution_count": 4
        }
      ]
    },
    {
      "cell_type": "code",
      "source": [
        "test_node.data"
      ],
      "metadata": {
        "colab": {
          "base_uri": "https://localhost:8080/"
        },
        "id": "xxN2IRZdCct0",
        "outputId": "03888138-4ad4-4212-9aed-15d6f6a4229c"
      },
      "execution_count": null,
      "outputs": [
        {
          "output_type": "execute_result",
          "data": {
            "text/plain": [
              "100"
            ]
          },
          "metadata": {},
          "execution_count": 5
        }
      ]
    },
    {
      "cell_type": "code",
      "source": [
        "test_node.next_node"
      ],
      "metadata": {
        "id": "q1f-09aUClvq"
      },
      "execution_count": null,
      "outputs": []
    },
    {
      "cell_type": "markdown",
      "source": [
        "Define your Linked List"
      ],
      "metadata": {
        "id": "ZmUQksLRC-Vs"
      }
    },
    {
      "cell_type": "code",
      "source": [
        "class MyLinkedList:\n",
        "  def __init__(self):\n",
        "    self.start = None\n",
        "\n",
        "  # adding a data item\n",
        "  def insert(self, x):\n",
        "    node_x = MyNode(x)\n",
        "    #node_x.data = x\n",
        "    node_x.next_node = self.start\n",
        "    self.start = node_x\n",
        "    #\n",
        "\n",
        "  # Traversing over the linked list\n",
        "  def traverse(self):\n",
        "    ptr = self.start\n",
        "    while ptr != None:\n",
        "      print(ptr.data)\n",
        "      ptr = ptr.next_node\n",
        "\n",
        "  # Remove from list\n",
        "  def delete(self):\n",
        "    self.start = self.start.next_node"
      ],
      "metadata": {
        "id": "fNkqS0o7CqDG"
      },
      "execution_count": null,
      "outputs": []
    },
    {
      "cell_type": "markdown",
      "source": [
        "Instantiate your Linked List"
      ],
      "metadata": {
        "id": "wxVCIm9vDB4A"
      }
    },
    {
      "cell_type": "code",
      "source": [
        "my_ll = MyLinkedList()"
      ],
      "metadata": {
        "id": "JTg4WNmmC81M"
      },
      "execution_count": null,
      "outputs": []
    },
    {
      "cell_type": "code",
      "source": [
        "my_ll"
      ],
      "metadata": {
        "colab": {
          "base_uri": "https://localhost:8080/"
        },
        "id": "QrKuBQ9_DI9k",
        "outputId": "a6355b1a-3311-450a-eedd-0ef681904f20"
      },
      "execution_count": null,
      "outputs": [
        {
          "output_type": "execute_result",
          "data": {
            "text/plain": [
              "<__main__.MyLinkedList at 0x7aa467b7cb20>"
            ]
          },
          "metadata": {},
          "execution_count": 48
        }
      ]
    },
    {
      "cell_type": "code",
      "source": [
        "my_ll.start"
      ],
      "metadata": {
        "id": "men2FrieDNGF"
      },
      "execution_count": null,
      "outputs": []
    },
    {
      "cell_type": "code",
      "source": [
        "my_ll.insert(99)"
      ],
      "metadata": {
        "id": "CBLZ_J9HEHWL"
      },
      "execution_count": null,
      "outputs": []
    },
    {
      "cell_type": "code",
      "source": [
        "my_ll.start"
      ],
      "metadata": {
        "colab": {
          "base_uri": "https://localhost:8080/"
        },
        "id": "wRqDhIFpEL8j",
        "outputId": "4c271d65-74ec-4666-8f46-e60c02799d4f"
      },
      "execution_count": null,
      "outputs": [
        {
          "output_type": "execute_result",
          "data": {
            "text/plain": [
              "<__main__.MyNode at 0x7aa467b7f8e0>"
            ]
          },
          "metadata": {},
          "execution_count": 51
        }
      ]
    },
    {
      "cell_type": "code",
      "source": [
        "my_ll.start.data"
      ],
      "metadata": {
        "colab": {
          "base_uri": "https://localhost:8080/"
        },
        "id": "Fo3GgLaRENoQ",
        "outputId": "b3f1f851-4c4b-4ddc-c38c-22e45af392f4"
      },
      "execution_count": null,
      "outputs": [
        {
          "output_type": "execute_result",
          "data": {
            "text/plain": [
              "99"
            ]
          },
          "metadata": {},
          "execution_count": 52
        }
      ]
    },
    {
      "cell_type": "code",
      "source": [
        "my_ll.insert(-99)"
      ],
      "metadata": {
        "id": "ijxZ1rUIERTn"
      },
      "execution_count": null,
      "outputs": []
    },
    {
      "cell_type": "code",
      "source": [
        "my_ll.start.data"
      ],
      "metadata": {
        "colab": {
          "base_uri": "https://localhost:8080/"
        },
        "id": "rkLI8Mn-FA4z",
        "outputId": "ccf3108e-39f7-4275-d024-c34c0486a0e1"
      },
      "execution_count": null,
      "outputs": [
        {
          "output_type": "execute_result",
          "data": {
            "text/plain": [
              "-99"
            ]
          },
          "metadata": {},
          "execution_count": 54
        }
      ]
    },
    {
      "cell_type": "code",
      "source": [
        "my_ll.traverse()"
      ],
      "metadata": {
        "colab": {
          "base_uri": "https://localhost:8080/"
        },
        "id": "qINs_EEqFvQG",
        "outputId": "f6276925-5dcc-4d0f-b10d-b662b59ab430"
      },
      "execution_count": null,
      "outputs": [
        {
          "output_type": "stream",
          "name": "stdout",
          "text": [
            "-99\n",
            "99\n"
          ]
        }
      ]
    },
    {
      "cell_type": "code",
      "source": [
        "my_ll.insert(50)"
      ],
      "metadata": {
        "id": "QsJwcSe_Fx7r"
      },
      "execution_count": null,
      "outputs": []
    },
    {
      "cell_type": "code",
      "source": [
        "my_ll.traverse()"
      ],
      "metadata": {
        "colab": {
          "base_uri": "https://localhost:8080/"
        },
        "id": "-nQIfqSOHKgU",
        "outputId": "9b9215ee-85d2-4573-cb46-66adbd38733d"
      },
      "execution_count": null,
      "outputs": [
        {
          "output_type": "stream",
          "name": "stdout",
          "text": [
            "50\n",
            "-99\n",
            "99\n"
          ]
        }
      ]
    },
    {
      "cell_type": "code",
      "source": [
        "my_ll.delete()"
      ],
      "metadata": {
        "id": "nH8oe6q9HL45"
      },
      "execution_count": null,
      "outputs": []
    },
    {
      "cell_type": "code",
      "source": [
        "my_ll.traverse()"
      ],
      "metadata": {
        "id": "yi66lSuKHN6n",
        "outputId": "4aca2fdd-750a-4588-fe2e-1e8e2c51bb4d",
        "colab": {
          "base_uri": "https://localhost:8080/"
        }
      },
      "execution_count": null,
      "outputs": [
        {
          "output_type": "stream",
          "name": "stdout",
          "text": [
            "-99\n",
            "99\n"
          ]
        }
      ]
    },
    {
      "cell_type": "code",
      "source": [],
      "metadata": {
        "id": "cIehoVJNHOvQ"
      },
      "execution_count": null,
      "outputs": []
    }
  ]
}